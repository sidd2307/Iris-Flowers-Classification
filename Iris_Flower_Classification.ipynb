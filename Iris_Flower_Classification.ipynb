{
  "nbformat": 4,
  "nbformat_minor": 0,
  "metadata": {
    "colab": {
      "name": "Iris Flower Classification.ipynb",
      "provenance": [],
      "collapsed_sections": [],
      "authorship_tag": "ABX9TyPOpbwtuCdPK/s88RITBpQK",
      "include_colab_link": true
    },
    "kernelspec": {
      "name": "python3",
      "display_name": "Python 3"
    },
    "language_info": {
      "name": "python"
    }
  },
  "cells": [
    {
      "cell_type": "markdown",
      "metadata": {
        "id": "view-in-github",
        "colab_type": "text"
      },
      "source": [
        "<a href=\"https://colab.research.google.com/github/sidd2307/Iris-Flowers-Classification/blob/main/Iris_Flower_Classification.ipynb\" target=\"_parent\"><img src=\"https://colab.research.google.com/assets/colab-badge.svg\" alt=\"Open In Colab\"/></a>"
      ]
    },
    {
      "cell_type": "code",
      "metadata": {
        "colab": {
          "base_uri": "https://localhost:8080/"
        },
        "id": "HOzlaiVeOTue",
        "outputId": "7f0716e9-0324-488e-bc87-e1ad72e7c040"
      },
      "source": [
        "print(\"This is a test\")"
      ],
      "execution_count": 27,
      "outputs": [
        {
          "output_type": "stream",
          "text": [
            "This is a test\n"
          ],
          "name": "stdout"
        }
      ]
    },
    {
      "cell_type": "code",
      "metadata": {
        "id": "hbTmqxJROc7d"
      },
      "source": [
        "#This is a Simple Logistic Regression Program to classify Iris Species\n",
        "\n",
        "#Import the dependencies\n",
        "import matplotlib.pyplot as plt\n",
        "import seaborn as sns #get iris dataset\n",
        "from sklearn.linear_model import LogisticRegression\n",
        "from sklearn.metrics import classification_report\n",
        "from sklearn.metrics import accuracy_score\n",
        "from sklearn.model_selection import train_test_split #split data into training and testing sets"
      ],
      "execution_count": 28,
      "outputs": []
    },
    {
      "cell_type": "code",
      "metadata": {
        "colab": {
          "base_uri": "https://localhost:8080/",
          "height": 195
        },
        "id": "KaB0QZB1O3Qa",
        "outputId": "b93a0d0d-d58b-4dca-9d6f-482bc4204bba"
      },
      "source": [
        "#Load the dataset\n",
        "data = sns.load_dataset(\"iris\")\n",
        "data.head()"
      ],
      "execution_count": 29,
      "outputs": [
        {
          "output_type": "execute_result",
          "data": {
            "text/html": [
              "<div>\n",
              "<style scoped>\n",
              "    .dataframe tbody tr th:only-of-type {\n",
              "        vertical-align: middle;\n",
              "    }\n",
              "\n",
              "    .dataframe tbody tr th {\n",
              "        vertical-align: top;\n",
              "    }\n",
              "\n",
              "    .dataframe thead th {\n",
              "        text-align: right;\n",
              "    }\n",
              "</style>\n",
              "<table border=\"1\" class=\"dataframe\">\n",
              "  <thead>\n",
              "    <tr style=\"text-align: right;\">\n",
              "      <th></th>\n",
              "      <th>sepal_length</th>\n",
              "      <th>sepal_width</th>\n",
              "      <th>petal_length</th>\n",
              "      <th>petal_width</th>\n",
              "      <th>species</th>\n",
              "    </tr>\n",
              "  </thead>\n",
              "  <tbody>\n",
              "    <tr>\n",
              "      <th>0</th>\n",
              "      <td>5.1</td>\n",
              "      <td>3.5</td>\n",
              "      <td>1.4</td>\n",
              "      <td>0.2</td>\n",
              "      <td>setosa</td>\n",
              "    </tr>\n",
              "    <tr>\n",
              "      <th>1</th>\n",
              "      <td>4.9</td>\n",
              "      <td>3.0</td>\n",
              "      <td>1.4</td>\n",
              "      <td>0.2</td>\n",
              "      <td>setosa</td>\n",
              "    </tr>\n",
              "    <tr>\n",
              "      <th>2</th>\n",
              "      <td>4.7</td>\n",
              "      <td>3.2</td>\n",
              "      <td>1.3</td>\n",
              "      <td>0.2</td>\n",
              "      <td>setosa</td>\n",
              "    </tr>\n",
              "    <tr>\n",
              "      <th>3</th>\n",
              "      <td>4.6</td>\n",
              "      <td>3.1</td>\n",
              "      <td>1.5</td>\n",
              "      <td>0.2</td>\n",
              "      <td>setosa</td>\n",
              "    </tr>\n",
              "    <tr>\n",
              "      <th>4</th>\n",
              "      <td>5.0</td>\n",
              "      <td>3.6</td>\n",
              "      <td>1.4</td>\n",
              "      <td>0.2</td>\n",
              "      <td>setosa</td>\n",
              "    </tr>\n",
              "  </tbody>\n",
              "</table>\n",
              "</div>"
            ],
            "text/plain": [
              "   sepal_length  sepal_width  petal_length  petal_width species\n",
              "0           5.1          3.5           1.4          0.2  setosa\n",
              "1           4.9          3.0           1.4          0.2  setosa\n",
              "2           4.7          3.2           1.3          0.2  setosa\n",
              "3           4.6          3.1           1.5          0.2  setosa\n",
              "4           5.0          3.6           1.4          0.2  setosa"
            ]
          },
          "metadata": {
            "tags": []
          },
          "execution_count": 29
        }
      ]
    },
    {
      "cell_type": "code",
      "metadata": {
        "colab": {
          "base_uri": "https://localhost:8080/"
        },
        "id": "MnBW38ELP5dO",
        "outputId": "cdb1e6d3-3229-4b7a-c11a-b594e10df24d"
      },
      "source": [
        "#prepare the training set\n",
        "# X = feature values, all the columns except the last column\n",
        "X = data.iloc[:, :-1] #all rows except last column\n",
        "\n",
        "#Y = target values, only last column of data frame\n",
        "Y = data.iloc[:, -1]\n",
        "\n",
        "print(X)\n"
      ],
      "execution_count": 30,
      "outputs": [
        {
          "output_type": "stream",
          "text": [
            "     sepal_length  sepal_width  petal_length  petal_width\n",
            "0             5.1          3.5           1.4          0.2\n",
            "1             4.9          3.0           1.4          0.2\n",
            "2             4.7          3.2           1.3          0.2\n",
            "3             4.6          3.1           1.5          0.2\n",
            "4             5.0          3.6           1.4          0.2\n",
            "..            ...          ...           ...          ...\n",
            "145           6.7          3.0           5.2          2.3\n",
            "146           6.3          2.5           5.0          1.9\n",
            "147           6.5          3.0           5.2          2.0\n",
            "148           6.2          3.4           5.4          2.3\n",
            "149           5.9          3.0           5.1          1.8\n",
            "\n",
            "[150 rows x 4 columns]\n"
          ],
          "name": "stdout"
        }
      ]
    },
    {
      "cell_type": "code",
      "metadata": {
        "colab": {
          "base_uri": "https://localhost:8080/"
        },
        "id": "B0jipsl7Q_mT",
        "outputId": "882cd71a-ff20-4073-cf2a-4f11a1a57ec3"
      },
      "source": [
        "print(Y)"
      ],
      "execution_count": 31,
      "outputs": [
        {
          "output_type": "stream",
          "text": [
            "0         setosa\n",
            "1         setosa\n",
            "2         setosa\n",
            "3         setosa\n",
            "4         setosa\n",
            "         ...    \n",
            "145    virginica\n",
            "146    virginica\n",
            "147    virginica\n",
            "148    virginica\n",
            "149    virginica\n",
            "Name: species, Length: 150, dtype: object\n"
          ],
          "name": "stdout"
        }
      ]
    },
    {
      "cell_type": "code",
      "metadata": {
        "colab": {
          "base_uri": "https://localhost:8080/",
          "height": 279
        },
        "id": "wgbtTO-_RCn4",
        "outputId": "9a2b6b9b-a6a1-4f04-dbf2-e03d3de73b89"
      },
      "source": [
        "#plot the relation of each feature with each species\n",
        "plt.xlabel('Features') #label on x-axis\n",
        "plt.ylabel('Species') #label on y-axis\n",
        "\n",
        "pltX = data.loc[:, 'sepal_length']\n",
        "pltY = data.loc[:, 'species']\n",
        "plt.scatter(pltX, pltY, color = \"blue\", Label = \"sepal_length\")\n",
        "\n",
        "pltX = data.loc[:, 'sepal_width']\n",
        "pltY = data.loc[:, 'species']\n",
        "plt.scatter(pltX, pltY, color = \"green\", Label = \"sepal_width\")\n",
        "\n",
        "pltX = data.loc[:, 'petal_length']\n",
        "pltY = data.loc[:, 'species']\n",
        "plt.scatter(pltX, pltY, color = \"red\", Label = \"petal_length\")\n",
        "\n",
        "pltX = data.loc[:, 'petal_width']\n",
        "pltY = data.loc[:, 'species']\n",
        "plt.scatter(pltX, pltY, color = \"pink\", Label = \"petal_width\")\n",
        "\n",
        "plt.legend(loc = 4, prop = {'size':8})\n",
        "plt.show()"
      ],
      "execution_count": 32,
      "outputs": [
        {
          "output_type": "display_data",
          "data": {
            "image/png": "[encoded data removed]",
            "text/plain": [
              "<Figure size 432x288 with 1 Axes>"
            ]
          },
          "metadata": {
            "tags": [],
            "needs_background": "light"
          }
        }
      ]
    },
    {
      "cell_type": "code",
      "metadata": {
        "id": "C65_7sE5R3EA"
      },
      "source": [
        "#split the data into 80% training and 20% testing\n",
        "x_train, x_test, y_train, y_test = train_test_split(X, Y, test_size = 0.2, random_state = 42) #random state randomises our data"
      ],
      "execution_count": 33,
      "outputs": []
    },
    {
      "cell_type": "code",
      "metadata": {
        "colab": {
          "base_uri": "https://localhost:8080/"
        },
        "id": "O94d3YGrUZyN",
        "outputId": "d35ea0df-3a33-4257-c549-b12210498653"
      },
      "source": [
        "#train the model\n",
        "model = LogisticRegression()\n",
        "model.fit(x_train, y_train) #training a model"
      ],
      "execution_count": 34,
      "outputs": [
        {
          "output_type": "stream",
          "text": [
            "/usr/local/lib/python3.7/dist-packages/sklearn/linear_model/_logistic.py:940: ConvergenceWarning: lbfgs failed to converge (status=1):\n",
            "STOP: TOTAL NO. of ITERATIONS REACHED LIMIT.\n",
            "\n",
            "Increase the number of iterations (max_iter) or scale the data as shown in:\n",
            "    https://scikit-learn.org/stable/modules/preprocessing.html\n",
            "Please also refer to the documentation for alternative solver options:\n",
            "    https://scikit-learn.org/stable/modules/linear_model.html#logistic-regression\n",
            "  extra_warning_msg=_LOGISTIC_SOLVER_CONVERGENCE_MSG)\n"
          ],
          "name": "stderr"
        },
        {
          "output_type": "execute_result",
          "data": {
            "text/plain": [
              "LogisticRegression(C=1.0, class_weight=None, dual=False, fit_intercept=True,\n",
              "                   intercept_scaling=1, l1_ratio=None, max_iter=100,\n",
              "                   multi_class='auto', n_jobs=None, penalty='l2',\n",
              "                   random_state=None, solver='lbfgs', tol=0.0001, verbose=0,\n",
              "                   warm_start=False)"
            ]
          },
          "metadata": {
            "tags": []
          },
          "execution_count": 34
        }
      ]
    },
    {
      "cell_type": "code",
      "metadata": {
        "colab": {
          "base_uri": "https://localhost:8080/"
        },
        "id": "jyhZykAVUjoN",
        "outputId": "cdab6c6a-2087-4ba0-cf01-1911ef16c9c4"
      },
      "source": [
        "#Test the model\n",
        "predictions = model.predict(x_test)\n",
        "print(predictions)\n",
        "print(y_test)"
      ],
      "execution_count": 35,
      "outputs": [
        {
          "output_type": "stream",
          "text": [
            "['versicolor' 'setosa' 'virginica' 'versicolor' 'versicolor' 'setosa'\n",
            " 'versicolor' 'virginica' 'versicolor' 'versicolor' 'virginica' 'setosa'\n",
            " 'setosa' 'setosa' 'setosa' 'versicolor' 'virginica' 'versicolor'\n",
            " 'versicolor' 'virginica' 'setosa' 'virginica' 'setosa' 'virginica'\n",
            " 'virginica' 'virginica' 'virginica' 'virginica' 'setosa' 'setosa']\n",
            "73     versicolor\n",
            "18         setosa\n",
            "118     virginica\n",
            "78     versicolor\n",
            "76     versicolor\n",
            "31         setosa\n",
            "64     versicolor\n",
            "141     virginica\n",
            "68     versicolor\n",
            "82     versicolor\n",
            "110     virginica\n",
            "12         setosa\n",
            "36         setosa\n",
            "9          setosa\n",
            "19         setosa\n",
            "56     versicolor\n",
            "104     virginica\n",
            "69     versicolor\n",
            "55     versicolor\n",
            "132     virginica\n",
            "29         setosa\n",
            "127     virginica\n",
            "26         setosa\n",
            "128     virginica\n",
            "131     virginica\n",
            "145     virginica\n",
            "108     virginica\n",
            "143     virginica\n",
            "45         setosa\n",
            "30         setosa\n",
            "Name: species, dtype: object\n"
          ],
          "name": "stdout"
        }
      ]
    },
    {
      "cell_type": "code",
      "metadata": {
        "colab": {
          "base_uri": "https://localhost:8080/"
        },
        "id": "0jjjx7c6U4Zr",
        "outputId": "462b9552-c206-45f0-8d1a-bd5948fe9456"
      },
      "source": [
        "#Since all the results are matching, MODEL IS PERFECT\n",
        "\n",
        "#Checking the precision, recall, f1-score\n",
        "print(classification_report(y_test, predictions))"
      ],
      "execution_count": 36,
      "outputs": [
        {
          "output_type": "stream",
          "text": [
            "              precision    recall  f1-score   support\n",
            "\n",
            "      setosa       1.00      1.00      1.00        10\n",
            "  versicolor       1.00      1.00      1.00         9\n",
            "   virginica       1.00      1.00      1.00        11\n",
            "\n",
            "    accuracy                           1.00        30\n",
            "   macro avg       1.00      1.00      1.00        30\n",
            "weighted avg       1.00      1.00      1.00        30\n",
            "\n"
          ],
          "name": "stdout"
        }
      ]
    },
    {
      "cell_type": "markdown",
      "metadata": {
        "id": "73lXgJeUV6ua"
      },
      "source": [
        "#MODEL IS ***PERFECT***"
      ]
    },
    {
      "cell_type": "code",
      "metadata": {
        "id": "_07lf9-4Vc3M"
      },
      "source": [
        "#THIS MODEL IS VERY ACCURATE\n",
        "#MOST POSSIBLE F1 SCORE is 1.00"
      ],
      "execution_count": null,
      "outputs": []
    },
    {
      "cell_type": "markdown",
      "metadata": {
        "id": "ktx50LeoVwT8"
      },
      "source": [
        "#THIS MODEL IS VERY ACCURATE\n",
        "#MOST POSSIBLE F1 SCORE is 1.00"
      ]
    },
    {
      "cell_type": "markdown",
      "metadata": {
        "id": "G-djqTqAVuPz"
      },
      "source": [
        ""
      ]
    }
  ]
}